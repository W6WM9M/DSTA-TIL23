{
  "nbformat": 4,
  "nbformat_minor": 0,
  "metadata": {
    "colab": {
      "provenance": []
    },
    "kernelspec": {
      "name": "python3",
      "display_name": "Python 3"
    },
    "language_info": {
      "name": "python"
    }
  },
  "cells": [
    {
      "cell_type": "code",
      "execution_count": null,
      "metadata": {
        "id": "SjCedqIeT5sg"
      },
      "outputs": [],
      "source": [
        "from google.colab import drive\n",
        "drive.mount('/content/drive')"
      ]
    },
    {
      "cell_type": "code",
      "source": [
        "!pip install jiwer torch torchaudio torchvision pydub torch-audiomentations==0.11.0 noisereduce\n",
        "!pip install -U pip setuptools wheel\n",
        "!pip install -U spacy\n",
        "!python -m spacy download en_core_web_sm\n",
        "!pip install pydub\n",
        "!pip install datasets transformers\n",
        "!pip install --upgrade accelerate\n",
        "!pip install pyspellchecker"
      ],
      "metadata": {
        "id": "V5M-TW11T7MR"
      },
      "execution_count": null,
      "outputs": []
    },
    {
      "cell_type": "code",
      "source": [
        "!gdown --folder https://drive.google.com/drive/folders/1-1VwT5HCp_oYiM4fJc3dCo-xT1uUe6TP?usp=sharing"
      ],
      "metadata": {
        "id": "-d-3t226T8Va"
      },
      "execution_count": null,
      "outputs": []
    },
    {
      "cell_type": "code",
      "source": [
        "!mkdir \"/content/Datasets\"\n",
        "\n",
        "!unzip \"/content/Advanced/ASR/Train.zip\" -d \"/content/Datasets\"\n",
        "!unzip \"/content/Advanced/ASR/Test_Advanced.zip\" -d \"/content/Datasets\""
      ],
      "metadata": {
        "id": "5s-7KGnyT_Vz"
      },
      "execution_count": null,
      "outputs": []
    },
    {
      "cell_type": "code",
      "source": [
        "from transformers import Wav2Vec2Processor, Wav2Vec2ForCTC\n",
        "import torch\n",
        "from torch.utils.data import Dataset, DataLoader\n",
        "import torchaudio\n",
        "import pandas as pd\n",
        "from jiwer import wer\n",
        "import numpy as np\n",
        "from tqdm import trange, tqdm\n",
        "import torch.nn.functional as F\n",
        "from torch.nn.utils.rnn import pad_sequence\n",
        "import random\n",
        "from IPython.display import Audio\n",
        "from torch_audiomentations import Compose, Gain, PitchShift, AddColoredNoise, PolarityInversion, PeakNormalization, HighPassFilter, LowPassFilter, Shift\n",
        "import noisereduce as nr\n",
        "import os \n",
        "from spellchecker import SpellChecker\n",
        "\n",
        "device = torch.device(\"cuda\" if torch.cuda.is_available() else \"cpu\")\n",
        "print(device)\n",
        "\n",
        "ROOT = \"/content/Datasets\" # change this if needed - tmp location"
      ],
      "metadata": {
        "id": "n5DLbd7VUAzQ"
      },
      "execution_count": null,
      "outputs": []
    },
    {
      "cell_type": "code",
      "source": [
        "probability = 0.5 \n",
        "transform = Compose(\n",
        "    transforms=[\n",
        "        HighPassFilter(min_cutoff_freq=100, max_cutoff_freq=500 , p = probability, sample_rate=16000),\n",
        "        LowPassFilter(min_cutoff_freq=2000, max_cutoff_freq=3000 , p = probability, sample_rate=16000),\n",
        "        Gain(\n",
        "            min_gain_in_db=-15.0,\n",
        "            max_gain_in_db=+10.0,\n",
        "            p=probability,\n",
        "            output_type = \"tensor\"\n",
        "        ),\n",
        "        Shift(min_shift = -0.1, max_shift = 0.1, p = probability,  rollover = False),\n",
        "        PitchShift(min_transpose_semitones = -4.0, max_transpose_semitones = 4.0, p = probability, sample_rate = 16000,output_type = \"tensor\"),\n",
        "        AddColoredNoise(min_snr_in_db = 16, max_snr_in_db = 30, p = probability, output_type = \"tensor\"),\n",
        "    ]\n",
        ")\n",
        "def audio_augmentation(audio):\n",
        "\n",
        "    if len(audio.shape) < 3:\n",
        "        audio = audio.reshape(1, 1, -1)\n",
        "      \n",
        "    audio = transform(audio, sample_rate = 16000).reshape(1, -1)\n",
        "    audio = (audio - audio.mean()) /audio.std()\n",
        "    return audio\n",
        "# Collate function for DataLoader\n",
        "def collate_fn_test(batch):\n",
        "\n",
        "    input_features = [{\"input_values\": feature[\"input_values\"]} for feature in batch]\n",
        "    \n",
        "    max_length = max([audio[\"input_values\"].shape[0] for audio in input_features])\n",
        "    \n",
        "    batch = processor.pad(\n",
        "        input_features,\n",
        "        padding=True,\n",
        "        max_length=max_length,\n",
        "        return_tensors=\"pt\",\n",
        "    )\n",
        "\n",
        "    return batch\n",
        "\n",
        "class TILDataset(Dataset):\n",
        "    def __init__(self, path, subset, augmentation = False):\n",
        "        assert subset in [\"train\", \"val\", \"test\"]\n",
        "\n",
        "        self.dataset = pd.read_pickle(path).reset_index(drop=True)\n",
        "        self.subset = subset\n",
        "        self.augmentation = augmentation\n",
        "        if self.subset == \"test\":\n",
        "            pass\n",
        "        else:\n",
        "            self.dataset = self.dataset.drop(columns = ['path', 'annotation'])\n",
        "            \n",
        "                \n",
        "    def __len__(self):\n",
        "        return len(self.dataset)\n",
        "    \n",
        "    def __getitem__(self, idx):\n",
        "        if self.subset == \"test\":\n",
        "            audio_feature = self.dataset['input_values'][idx].to(device)\n",
        "            return {\"input_values\": audio_feature.reshape(-1)}\n",
        "        \n",
        "        elif self.subset == \"val\":\n",
        "            audio_feature = self.dataset['input_values'][idx].to(device)\n",
        "            label = torch.tensor(self.dataset['labels'][idx]).to(device)\n",
        "\n",
        "            return {\"input_values\": audio_feature.reshape(-1), \n",
        "                    \"labels\": label.to(device)} \n",
        "\n",
        "        elif self.subset == \"train\":\n",
        "            audio = self.dataset['input_values'][idx].to(device)\n",
        "            \n",
        "            # Only augment on training subset\n",
        "            audio = audio_augmentation(audio)\n",
        "\n",
        "            label = torch.tensor(self.dataset['labels'][idx]).to(device)\n",
        "\n",
        "            return {\"input_values\": audio.reshape(-1), \n",
        "                    \"labels\": label.to(device)}  "
      ],
      "metadata": {
        "id": "NpuV316LUByW"
      },
      "execution_count": null,
      "outputs": []
    },
    {
      "cell_type": "markdown",
      "source": [
        "# **Saving Train and Validation Audio Tensors into a Pickle File**\n",
        "For easy loading during pretraining"
      ],
      "metadata": {
        "id": "CmkwZr0ZUFFa"
      }
    },
    {
      "cell_type": "code",
      "source": [
        "model_name = \"facebook/wav2vec2-large-960h-lv60-self\" \n",
        "processor = Wav2Vec2Processor.from_pretrained(model_name)"
      ],
      "metadata": {
        "id": "q-1M2JzUUC0Q"
      },
      "execution_count": null,
      "outputs": []
    },
    {
      "cell_type": "code",
      "source": [
        "train_csv = pd.read_csv(\"/content/Advanced/ASR/Train.csv\")\n",
        "train_csv.head()"
      ],
      "metadata": {
        "id": "BO5B6PuMUHXQ"
      },
      "execution_count": null,
      "outputs": []
    },
    {
      "cell_type": "code",
      "source": [
        "train_csv['labels'] = None\n",
        "for i in trange(len(train_csv)):\n",
        "    with processor.as_target_processor():\n",
        "        train_csv[\"labels\"][i] = torch.tensor(processor(train_csv['annotation'][i]).input_ids)"
      ],
      "metadata": {
        "id": "TwGpDXLZUIZs"
      },
      "execution_count": null,
      "outputs": []
    },
    {
      "cell_type": "code",
      "source": [
        "TRAIN_FOLDER = \"/content/Datasets/Train\"\n",
        "\n",
        "train_csv['input_values'] = pd.Series()\n",
        "for i in trange(len(train_csv)):\n",
        "    input1, _ = torchaudio.load(TRAIN_FOLDER + f\"/{train_csv['path'][i]}\")\n",
        "    input1 = input1.reshape(1, 1, -1)\n",
        "    train_csv['input_values'][i] = processor(transform(input1), return_tensors=\"pt\", padding='do_not_pad', sampling_rate = 16000).input_values.reshape(-1)\n",
        "\n",
        "train_csv = train_csv.sample(frac=1).reset_index(drop=True)\n",
        "\n",
        "train_csv[:3000].reset_index(drop=True).to_pickle(ROOT + \"/Train_Set.pkl\")\n",
        "train_csv[3000:].reset_index(drop=True).to_pickle(ROOT + \"/Val_Set.pkl\")   "
      ],
      "metadata": {
        "id": "-67nqeG5UJme"
      },
      "execution_count": null,
      "outputs": []
    },
    {
      "cell_type": "markdown",
      "source": [
        "# **Finetuning a Pretrained ASR Encoder Models from Facebook**"
      ],
      "metadata": {
        "id": "poiUONMdUPvK"
      }
    },
    {
      "cell_type": "code",
      "source": [
        "model_name = \"facebook/wav2vec2-large-960h-lv60-self\" \n",
        "from transformers import Wav2Vec2Processor, Wav2Vec2ForCTC\n",
        "\n",
        "processor = Wav2Vec2Processor.from_pretrained(model_name)\n",
        "model = Wav2Vec2ForCTC.from_pretrained(\n",
        "    model_name, \n",
        "    ctc_loss_reduction=\"mean\", \n",
        "    pad_token_id=processor.tokenizer.pad_token_id,\n",
        ").to(device)"
      ],
      "metadata": {
        "id": "a1sAO_32UPFa"
      },
      "execution_count": null,
      "outputs": []
    },
    {
      "cell_type": "code",
      "source": [
        "### Train/Validation Audio processed by Wav2Vec2Processor was stored in a single pickle file so that it is easier to load.\n",
        "train_ds = TILDataset(ROOT + \"/Train_Set.pkl\", subset = \"train\", augmentation = False)\n",
        "val_ds = TILDataset(ROOT + \"/Val_Set.pkl\", subset = \"val\", augmentation = False)\n",
        "\n",
        "print(train_ds.__len__(), val_ds.__len__())"
      ],
      "metadata": {
        "id": "Ia0u8QioUSJN"
      },
      "execution_count": null,
      "outputs": []
    },
    {
      "cell_type": "code",
      "source": [
        "from transformers import Wav2Vec2ForCTC, Trainer, TrainingArguments, EarlyStoppingCallback, TrainerCallback\n",
        "\n",
        "from dataclasses import dataclass, field\n",
        "from typing import Any, Dict, List, Optional, Union\n",
        "\n",
        "@dataclass\n",
        "class DataCollatorCTCWithPadding:\n",
        "    \"\"\"\n",
        "    Data collator that will dynamically pad the inputs received.\n",
        "    Args:\n",
        "        processor (:class:`~transformers.Wav2Vec2Processor`)\n",
        "            The processor used for proccessing the data.\n",
        "        padding (:obj:`bool`, :obj:`str` or :class:`~transformers.tokenization_utils_base.PaddingStrategy`, `optional`, defaults to :obj:`True`):\n",
        "            Select a strategy to pad the returned sequences (according to the model's padding side and padding index)\n",
        "            among:\n",
        "            * :obj:`True` or :obj:`'longest'`: Pad to the longest sequence in the batch (or no padding if only a single\n",
        "              sequence if provided).\n",
        "            * :obj:`'max_length'`: Pad to a maximum length specified with the argument :obj:`max_length` or to the\n",
        "              maximum acceptable input length for the model if that argument is not provided.\n",
        "            * :obj:`False` or :obj:`'do_not_pad'` (default): No padding (i.e., can output a batch with sequences of\n",
        "              different lengths).\n",
        "        max_length (:obj:`int`, `optional`):\n",
        "            Maximum length of the ``input_values`` of the returned list and optionally padding length (see above).\n",
        "        max_length_labels (:obj:`int`, `optional`):\n",
        "            Maximum length of the ``labels`` returned list and optionally padding length (see above).\n",
        "        pad_to_multiple_of (:obj:`int`, `optional`):\n",
        "            If set will pad the sequence to a multiple of the provided value.\n",
        "            This is especially useful to enable the use of Tensor Cores on NVIDIA hardware with compute capability >=\n",
        "            7.5 (Volta).\n",
        "    \"\"\"\n",
        "\n",
        "    processor: Wav2Vec2Processor\n",
        "    padding: Union[bool, str] = True\n",
        "    max_length: Optional[int] = None\n",
        "    max_length_labels: Optional[int] = None\n",
        "    pad_to_multiple_of: Optional[int] = None\n",
        "    pad_to_multiple_of_labels: Optional[int] = None\n",
        "\n",
        "    def __call__(self, features: List[Dict[str, Union[List[int], torch.Tensor]]]) -> Dict[str, torch.Tensor]:\n",
        "        # split inputs and labels since they have to be of different lengths and need\n",
        "        # different padding methods\n",
        "      \n",
        "        input_features = [{\"input_values\": feature[\"input_values\"]} for feature in features]\n",
        "        label_features = [{\"input_ids\": feature[\"labels\"]} for feature in features]\n",
        "\n",
        "        batch = self.processor.pad(\n",
        "            input_features,\n",
        "            padding=self.padding,\n",
        "            max_length=self.max_length,\n",
        "            pad_to_multiple_of=self.pad_to_multiple_of,\n",
        "            return_tensors=\"pt\",\n",
        "        )\n",
        "        with self.processor.as_target_processor():\n",
        "            labels_batch = self.processor.pad(\n",
        "                label_features,\n",
        "                padding=self.padding,\n",
        "                max_length=self.max_length_labels,\n",
        "                pad_to_multiple_of=self.pad_to_multiple_of_labels,\n",
        "                return_tensors=\"pt\",\n",
        "            )\n",
        "\n",
        "        # replace padding with -100 to ignore loss correctly\n",
        "        labels = labels_batch[\"input_ids\"].masked_fill(labels_batch.attention_mask.ne(1), -100)\n",
        "\n",
        "        batch[\"labels\"] = labels\n",
        "\n",
        "        return batch\n",
        "\n",
        "class MyCallback(TrainerCallback):\n",
        "    \"A callback that prints a message at the beginning of training\"\n",
        "\n",
        "    def on_epoch_end(self, args, state, control, **kwargs):\n",
        "        torch.cuda.empty_cache()"
      ],
      "metadata": {
        "id": "zg4XumhCUTbO"
      },
      "execution_count": null,
      "outputs": []
    },
    {
      "cell_type": "code",
      "source": [
        "from datasets import load_metric\n",
        "\n",
        "data_collator = DataCollatorCTCWithPadding(processor=processor, padding=True)\n",
        "wer_metric = load_metric(\"wer\")\n",
        "\n",
        "def compute_metrics(pred):\n",
        "    pred_logits = pred.predictions\n",
        "    pred_ids = np.argmax(pred_logits, axis=-1)\n",
        "\n",
        "    pred.label_ids[pred.label_ids == -100] = processor.tokenizer.pad_token_id\n",
        "\n",
        "    pred_str = processor.batch_decode(pred_ids)\n",
        "    # we do not want to group tokens when computing the metrics\n",
        "    label_str = processor.batch_decode(pred.label_ids, group_tokens=False)\n",
        "\n",
        "    wer = wer_metric.compute(predictions=pred_str, references=label_str)\n",
        "\n",
        "    return {\"wer\": wer}\n",
        "\n",
        "model = Wav2Vec2ForCTC.from_pretrained(\n",
        "    model_name, \n",
        "    ctc_loss_reduction=\"mean\", \n",
        "    pad_token_id=processor.tokenizer.pad_token_id,\n",
        ").to(device)\n",
        "\n",
        "model.freeze_feature_encoder()\n",
        "\n",
        "training_args = TrainingArguments(\n",
        "  output_dir=ROOT + f\"/{model_name}/Checkpoint\",\n",
        "  group_by_length=False,\n",
        "  per_device_train_batch_size=16, \n",
        "  evaluation_strategy=\"steps\",\n",
        "  save_strategy=\"steps\",\n",
        "  num_train_epochs=30,\n",
        "  fp16=True,#change to True on CUDA\n",
        "  gradient_checkpointing=True, \n",
        "  save_steps=1000,\n",
        "  eval_steps=500,\n",
        "  logging_steps=500,\n",
        "  learning_rate=1e-4,\n",
        "  weight_decay=0.005,\n",
        "  warmup_steps=100,\n",
        "  save_total_limit=1,\n",
        "  load_best_model_at_end = True,\n",
        "  optim = \"adamw_torch\", \n",
        "  dataloader_pin_memory = False\n",
        ")\n",
        "\n",
        "trainer = Trainer(\n",
        "    model=model,\n",
        "    data_collator=data_collator,\n",
        "    args=training_args,\n",
        "    compute_metrics=compute_metrics,\n",
        "    train_dataset=train_ds, \n",
        "    eval_dataset=val_ds,\n",
        "    tokenizer=processor.feature_extractor,\n",
        "    callbacks = [MyCallback]    \n",
        ")"
      ],
      "metadata": {
        "id": "3w63OBZoUUZr"
      },
      "execution_count": null,
      "outputs": []
    },
    {
      "cell_type": "code",
      "source": [
        "trainer.train()"
      ],
      "metadata": {
        "id": "iBSQC5boUVv9"
      },
      "execution_count": null,
      "outputs": []
    }
  ]
}